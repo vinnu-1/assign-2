{
  "nbformat": 4,
  "nbformat_minor": 0,
  "metadata": {
    "colab": {
      "provenance": []
    },
    "kernelspec": {
      "name": "python3",
      "display_name": "Python 3"
    },
    "language_info": {
      "name": "python"
    }
  },
  "cells": [
    {
      "cell_type": "code",
      "execution_count": null,
      "metadata": {
        "id": "Auj7XEOFcg9Y"
      },
      "outputs": [],
      "source": []
    },
    {
      "cell_type": "markdown",
      "source": [
        "# New Section"
      ],
      "metadata": {
        "id": "0Y4nFgIUckDo"
      }
    },
    {
      "cell_type": "code",
      "source": [
        "#A\n",
        "import pandas as pd\n",
        "import numpy as np\n",
        "df = pd.read_csv('train.csv')\n",
        "\n",
        "missing_values = df.isnull().sum()\n",
        "print(\"Missing values in each column:\")\n",
        "print(missing_values)"
      ],
      "metadata": {
        "colab": {
          "base_uri": "https://localhost:8080/"
        },
        "id": "30t6TqYCdKOO",
        "outputId": "7b0d5646-2247-47c5-ced7-b81a312f7edb"
      },
      "execution_count": 2,
      "outputs": [
        {
          "output_type": "stream",
          "name": "stdout",
          "text": [
            "Missing values in each column:\n",
            "Unnamed: 0              0\n",
            "Name                    0\n",
            "Location                0\n",
            "Year                    0\n",
            "Kilometers_Driven       0\n",
            "Fuel_Type               0\n",
            "Transmission            0\n",
            "Owner_Type              0\n",
            "Mileage                 2\n",
            "Engine                 36\n",
            "Power                  36\n",
            "Seats                  38\n",
            "New_Price            5032\n",
            "Price                   0\n",
            "dtype: int64\n"
          ]
        }
      ]
    },
    {
      "cell_type": "code",
      "source": [
        "#B\n",
        "df.loc[:, 'Mileage'] = df['Mileage'].astype(str).str.replace(r' kmpl| km/kg', '', regex=True).astype(float)\n",
        "\n",
        "df['Engine'] = df['Engine'].astype(str).str.replace(' CC', '')\n",
        "\n",
        "# Replace 'nan' string with actual NaN values\n",
        "df['Engine'] = df['Engine'].replace('nan', np.nan)\n",
        "\n",
        "# Convert the Engine column to float, fill NaN values with 0, and then convert to integer\n",
        "df['Engine'] = df['Engine'].astype(float).fillna(0).astype(int)\n",
        "df['Power'] = df['Power'].astype(str)\n",
        "\n",
        "# Remove units from Power and convert to float\n",
        "df['Power'] = df['Power'].str.replace(' bhp', '').astype(float)\n",
        "\n",
        "\n",
        "df['New_Price'] = df['New_Price'].astype(str).str.replace(r' Lakh| Cr', '', regex=True).astype(float)\n",
        "print(df.head())"
      ],
      "metadata": {
        "colab": {
          "base_uri": "https://localhost:8080/"
        },
        "id": "sEXXZg5VdWAX",
        "outputId": "a7ce2ae5-6a5d-4a43-d0f0-5e39d0d69e6d"
      },
      "execution_count": 3,
      "outputs": [
        {
          "output_type": "stream",
          "name": "stdout",
          "text": [
            "   Unnamed: 0                              Name    Location  Year  \\\n",
            "0           1  Hyundai Creta 1.6 CRDi SX Option        Pune  2015   \n",
            "1           2                      Honda Jazz V     Chennai  2011   \n",
            "2           3                 Maruti Ertiga VDI     Chennai  2012   \n",
            "3           4   Audi A4 New 2.0 TDI Multitronic  Coimbatore  2013   \n",
            "4           6            Nissan Micra Diesel XV      Jaipur  2013   \n",
            "\n",
            "   Kilometers_Driven Fuel_Type Transmission Owner_Type  Mileage  Engine  \\\n",
            "0              41000    Diesel       Manual      First    19.67    1582   \n",
            "1              46000    Petrol       Manual      First    13.00    1199   \n",
            "2              87000    Diesel       Manual      First    20.77    1248   \n",
            "3              40670    Diesel    Automatic     Second    15.20    1968   \n",
            "4              86999    Diesel       Manual      First    23.08    1461   \n",
            "\n",
            "    Power  Seats  New_Price  Price  \n",
            "0  126.20    5.0        NaN  12.50  \n",
            "1   88.70    5.0       8.61   4.50  \n",
            "2   88.76    7.0        NaN   6.00  \n",
            "3  140.80    5.0        NaN  17.74  \n",
            "4   63.10    5.0        NaN   3.50  \n"
          ]
        },
        {
          "output_type": "stream",
          "name": "stderr",
          "text": [
            "<ipython-input-3-09588a461ae1>:2: DeprecationWarning: In a future version, `df.iloc[:, i] = newvals` will attempt to set the values inplace instead of always setting a new array. To retain the old behavior, use either `df[df.columns[i]] = newvals` or, if columns are non-unique, `df.isetitem(i, newvals)`\n",
            "  df.loc[:, 'Mileage'] = df['Mileage'].astype(str).str.replace(r' kmpl| km/kg', '', regex=True).astype(float)\n"
          ]
        }
      ]
    },
    {
      "cell_type": "code",
      "source": [
        "#C\n",
        "print(df.columns)\n",
        "\n",
        "# Check if the specified columns exist in the DataFrame\n",
        "if 'Fuel_Type_Diesel' in df.columns and 'Transmission_Automatic' in df.columns:\n",
        "    # Create one-hot encoded representations of categorical variables\n",
        "    hot_encoded = pd.get_dummies(df, columns=['Fuel_Type_Diesel', 'Transmission_Automatic'])\n",
        "\n",
        "    # Display the first few rows of the DataFrame with one-hot encoded variables\n",
        "    print(hot_encoded.head())\n",
        "else:\n",
        "    print(\"Specified columns not found in the DataFrame.\")\n",
        "\n"
      ],
      "metadata": {
        "colab": {
          "base_uri": "https://localhost:8080/"
        },
        "id": "p2netdDqggSx",
        "outputId": "b3ca5412-c800-4460-a6eb-43ad428e98f7"
      },
      "execution_count": 4,
      "outputs": [
        {
          "output_type": "stream",
          "name": "stdout",
          "text": [
            "Index(['Unnamed: 0', 'Name', 'Location', 'Year', 'Kilometers_Driven',\n",
            "       'Fuel_Type', 'Transmission', 'Owner_Type', 'Mileage', 'Engine', 'Power',\n",
            "       'Seats', 'New_Price', 'Price'],\n",
            "      dtype='object')\n",
            "Specified columns not found in the DataFrame.\n"
          ]
        }
      ]
    },
    {
      "cell_type": "code",
      "source": [
        "#d\n",
        "from datetime import datetime\n",
        "\n",
        "# Calculate the current year\n",
        "current_year = datetime.now().year\n",
        "\n",
        "# Create a new feature representing the current age of the car\n",
        "df['Current_Age'] = current_year - df['Year']\n",
        "\n",
        "# Display the updated DataFrame\n",
        "print(df.head())"
      ],
      "metadata": {
        "colab": {
          "base_uri": "https://localhost:8080/"
        },
        "id": "ajW8Mk_9ivOl",
        "outputId": "c46cc188-099c-4cd1-deee-ceaaf7f46db3"
      },
      "execution_count": 5,
      "outputs": [
        {
          "output_type": "stream",
          "name": "stdout",
          "text": [
            "   Unnamed: 0                              Name    Location  Year  \\\n",
            "0           1  Hyundai Creta 1.6 CRDi SX Option        Pune  2015   \n",
            "1           2                      Honda Jazz V     Chennai  2011   \n",
            "2           3                 Maruti Ertiga VDI     Chennai  2012   \n",
            "3           4   Audi A4 New 2.0 TDI Multitronic  Coimbatore  2013   \n",
            "4           6            Nissan Micra Diesel XV      Jaipur  2013   \n",
            "\n",
            "   Kilometers_Driven Fuel_Type Transmission Owner_Type  Mileage  Engine  \\\n",
            "0              41000    Diesel       Manual      First    19.67    1582   \n",
            "1              46000    Petrol       Manual      First    13.00    1199   \n",
            "2              87000    Diesel       Manual      First    20.77    1248   \n",
            "3              40670    Diesel    Automatic     Second    15.20    1968   \n",
            "4              86999    Diesel       Manual      First    23.08    1461   \n",
            "\n",
            "    Power  Seats  New_Price  Price  Current_Age  \n",
            "0  126.20    5.0        NaN  12.50            9  \n",
            "1   88.70    5.0       8.61   4.50           13  \n",
            "2   88.76    7.0        NaN   6.00           12  \n",
            "3  140.80    5.0        NaN  17.74           11  \n",
            "4   63.10    5.0        NaN   3.50           11  \n"
          ]
        }
      ]
    },
    {
      "cell_type": "code",
      "source": [
        "#E\n",
        "# Select operation (selecting specific columns)\n",
        "selected_columns = df[['Year', 'Mileage', 'Price']]\n",
        "\n",
        "# Filter operation (filtering rows based on condition)\n",
        "filtered_data = df[df['Year'] >= 2010]\n",
        "\n",
        "# Rename operation (renaming columns)\n",
        "renamed_columns = df.rename(columns={'Mileage': 'Car_Mileage', 'Price': 'Price_in_Lakhs'})\n",
        "\n",
        "# Mutate operation (creating a new column based on existing columns)\n",
        "df['Price_in_Thousands'] = df['Price'] * 1000\n",
        "\n",
        "# Arrange operation (sorting rows based on one or more columns)\n",
        "arranged_data = df.sort_values(by='Price', ascending=False)\n",
        "\n",
        "# Summarize with group by operation (calculating summary statistics for groups)\n",
        "summary_statistics = df.groupby('Year')['Price'].agg(['mean', 'median', 'min', 'max'])\n",
        "\n",
        "# Displaying the results\n",
        "print(\"Selected Columns:\")\n",
        "print(selected_columns.head())\n",
        "\n",
        "print(\"\\nFiltered Data:\")\n",
        "print(filtered_data.head())\n",
        "\n",
        "print(\"\\nRenamed Columns:\")\n",
        "print(renamed_columns.head())\n",
        "\n",
        "print(\"\\nMutated DataFrame:\")\n",
        "print(df.head())\n",
        "\n",
        "print(\"\\nArranged Data:\")\n",
        "print(arranged_data.head())\n",
        "\n",
        "print(\"\\nSummary Statistics:\")\n",
        "print(summary_statistics.head())\n"
      ],
      "metadata": {
        "colab": {
          "base_uri": "https://localhost:8080/"
        },
        "id": "MhInSCyHjAdT",
        "outputId": "03736d6c-b4d6-4fdc-d5d4-7667cc6bfcd0"
      },
      "execution_count": 6,
      "outputs": [
        {
          "output_type": "stream",
          "name": "stdout",
          "text": [
            "Selected Columns:\n",
            "   Year  Mileage  Price\n",
            "0  2015    19.67  12.50\n",
            "1  2011    13.00   4.50\n",
            "2  2012    20.77   6.00\n",
            "3  2013    15.20  17.74\n",
            "4  2013    23.08   3.50\n",
            "\n",
            "Filtered Data:\n",
            "   Unnamed: 0                              Name    Location  Year  \\\n",
            "0           1  Hyundai Creta 1.6 CRDi SX Option        Pune  2015   \n",
            "1           2                      Honda Jazz V     Chennai  2011   \n",
            "2           3                 Maruti Ertiga VDI     Chennai  2012   \n",
            "3           4   Audi A4 New 2.0 TDI Multitronic  Coimbatore  2013   \n",
            "4           6            Nissan Micra Diesel XV      Jaipur  2013   \n",
            "\n",
            "   Kilometers_Driven Fuel_Type Transmission Owner_Type  Mileage  Engine  \\\n",
            "0              41000    Diesel       Manual      First    19.67    1582   \n",
            "1              46000    Petrol       Manual      First    13.00    1199   \n",
            "2              87000    Diesel       Manual      First    20.77    1248   \n",
            "3              40670    Diesel    Automatic     Second    15.20    1968   \n",
            "4              86999    Diesel       Manual      First    23.08    1461   \n",
            "\n",
            "    Power  Seats  New_Price  Price  Current_Age  \n",
            "0  126.20    5.0        NaN  12.50            9  \n",
            "1   88.70    5.0       8.61   4.50           13  \n",
            "2   88.76    7.0        NaN   6.00           12  \n",
            "3  140.80    5.0        NaN  17.74           11  \n",
            "4   63.10    5.0        NaN   3.50           11  \n",
            "\n",
            "Renamed Columns:\n",
            "   Unnamed: 0                              Name    Location  Year  \\\n",
            "0           1  Hyundai Creta 1.6 CRDi SX Option        Pune  2015   \n",
            "1           2                      Honda Jazz V     Chennai  2011   \n",
            "2           3                 Maruti Ertiga VDI     Chennai  2012   \n",
            "3           4   Audi A4 New 2.0 TDI Multitronic  Coimbatore  2013   \n",
            "4           6            Nissan Micra Diesel XV      Jaipur  2013   \n",
            "\n",
            "   Kilometers_Driven Fuel_Type Transmission Owner_Type  Car_Mileage  Engine  \\\n",
            "0              41000    Diesel       Manual      First        19.67    1582   \n",
            "1              46000    Petrol       Manual      First        13.00    1199   \n",
            "2              87000    Diesel       Manual      First        20.77    1248   \n",
            "3              40670    Diesel    Automatic     Second        15.20    1968   \n",
            "4              86999    Diesel       Manual      First        23.08    1461   \n",
            "\n",
            "    Power  Seats  New_Price  Price_in_Lakhs  Current_Age  \n",
            "0  126.20    5.0        NaN           12.50            9  \n",
            "1   88.70    5.0       8.61            4.50           13  \n",
            "2   88.76    7.0        NaN            6.00           12  \n",
            "3  140.80    5.0        NaN           17.74           11  \n",
            "4   63.10    5.0        NaN            3.50           11  \n",
            "\n",
            "Mutated DataFrame:\n",
            "   Unnamed: 0                              Name    Location  Year  \\\n",
            "0           1  Hyundai Creta 1.6 CRDi SX Option        Pune  2015   \n",
            "1           2                      Honda Jazz V     Chennai  2011   \n",
            "2           3                 Maruti Ertiga VDI     Chennai  2012   \n",
            "3           4   Audi A4 New 2.0 TDI Multitronic  Coimbatore  2013   \n",
            "4           6            Nissan Micra Diesel XV      Jaipur  2013   \n",
            "\n",
            "   Kilometers_Driven Fuel_Type Transmission Owner_Type  Mileage  Engine  \\\n",
            "0              41000    Diesel       Manual      First    19.67    1582   \n",
            "1              46000    Petrol       Manual      First    13.00    1199   \n",
            "2              87000    Diesel       Manual      First    20.77    1248   \n",
            "3              40670    Diesel    Automatic     Second    15.20    1968   \n",
            "4              86999    Diesel       Manual      First    23.08    1461   \n",
            "\n",
            "    Power  Seats  New_Price  Price  Current_Age  Price_in_Thousands  \n",
            "0  126.20    5.0        NaN  12.50            9             12500.0  \n",
            "1   88.70    5.0       8.61   4.50           13              4500.0  \n",
            "2   88.76    7.0        NaN   6.00           12              6000.0  \n",
            "3  140.80    5.0        NaN  17.74           11             17740.0  \n",
            "4   63.10    5.0        NaN   3.50           11              3500.0  \n",
            "\n",
            "Arranged Data:\n",
            "      Unnamed: 0                                         Name    Location  \\\n",
            "3952        4079  Land Rover Range Rover 3.0 Diesel LWB Vogue   Hyderabad   \n",
            "5620        5781                   Lamborghini Gallardo Coupe       Delhi   \n",
            "5752        5919                       Jaguar F Type 5.0 V8 S   Hyderabad   \n",
            "1457        1505              Land Rover Range Rover Sport SE       Kochi   \n",
            "1917        1974                           BMW 7 Series 740Li  Coimbatore   \n",
            "\n",
            "      Year  Kilometers_Driven Fuel_Type Transmission Owner_Type  Mileage  \\\n",
            "3952  2017              25000    Diesel    Automatic      First    13.33   \n",
            "5620  2011               6500    Petrol    Automatic      Third     6.40   \n",
            "5752  2015               8000    Petrol    Automatic      First    12.50   \n",
            "1457  2019              26013    Diesel    Automatic      First    12.65   \n",
            "1917  2018              28060    Petrol    Automatic      First    12.05   \n",
            "\n",
            "      Engine  Power  Seats  New_Price   Price  Current_Age  Price_in_Thousands  \n",
            "3952    2993  255.0    5.0       2.30  160.00            7            160000.0  \n",
            "5620    5204  560.0    2.0        NaN  120.00           13            120000.0  \n",
            "5752    5000  488.1    2.0        NaN  100.00            9            100000.0  \n",
            "1457    2993  255.0    5.0       1.39   97.07            5             97070.0  \n",
            "1917    2979  320.0    5.0        NaN   93.67            6             93670.0  \n",
            "\n",
            "Summary Statistics:\n",
            "          mean  median   min   max\n",
            "Year                              \n",
            "1998  1.626667   0.530  0.45  3.90\n",
            "1999  0.835000   0.835  0.77  0.90\n",
            "2000  1.175000   1.100  0.55  1.95\n",
            "2001  0.920000   0.750  0.70  1.45\n",
            "2002  1.321667   1.100  0.51  3.65\n"
          ]
        }
      ]
    },
    {
      "cell_type": "markdown",
      "source": [],
      "metadata": {
        "id": "lDhoFr_-dUj9"
      }
    }
  ]
}